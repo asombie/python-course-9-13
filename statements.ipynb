{
  "nbformat": 4,
  "nbformat_minor": 0,
  "metadata": {
    "colab": {
      "name": "statements.ipynb",
      "provenance": [],
      "toc_visible": true,
      "authorship_tag": "ABX9TyPo+S9k8rPJklhk5jp26uxc",
      "include_colab_link": true
    },
    "kernelspec": {
      "name": "python3",
      "display_name": "Python 3"
    },
    "language_info": {
      "name": "python"
    }
  },
  "cells": [
    {
      "cell_type": "markdown",
      "metadata": {
        "id": "view-in-github",
        "colab_type": "text"
      },
      "source": [
        "<a href=\"https://colab.research.google.com/github/asombie/python-course-9-13/blob/main/statements.ipynb\" target=\"_parent\"><img src=\"https://colab.research.google.com/assets/colab-badge.svg\" alt=\"Open In Colab\"/></a>"
      ]
    },
    {
      "cell_type": "markdown",
      "metadata": {
        "id": "rEu8ISpkzRP5"
      },
      "source": [
        "# Chapiter I"
      ]
    },
    {
      "cell_type": "markdown",
      "metadata": {
        "id": "Qzapwrrqvbxv"
      },
      "source": [
        "##While loop\n"
      ]
    },
    {
      "cell_type": "code",
      "metadata": {
        "colab": {
          "base_uri": "https://localhost:8080/"
        },
        "id": "JASxc3mcwcHH",
        "outputId": "5435526a-a871-49dc-f4e7-e6b15e5c8e98"
      },
      "source": [
        "count = 5\n",
        "while True:\n",
        "  print(f\"Counting down to {count}\")\n",
        "  if count == 0:\n",
        "    break\n",
        "  count -= 1\n"
      ],
      "execution_count": null,
      "outputs": [
        {
          "output_type": "stream",
          "name": "stdout",
          "text": [
            "Counting down to 5\n",
            "Counting down to 4\n",
            "Counting down to 3\n",
            "Counting down to 2\n",
            "Counting down to 1\n",
            "Counting down to 0\n"
          ]
        }
      ]
    },
    {
      "cell_type": "markdown",
      "metadata": {
        "id": "4B-EsrgZydc3"
      },
      "source": [
        "## Handling Exceptions"
      ]
    },
    {
      "cell_type": "markdown",
      "metadata": {
        "id": "XyvdQN31vbKh"
      },
      "source": [
        "Exceptions are a type of error causing your program to crash if not handled (caught). Catching them with a try-except block allows the program to continue. These blocks are created by indenting the block in which the exception might be raised, putting a try statement before it and an except statement after it, followed by a code block that should run when the error occurs.\n",
        "\n",
        "Pop() parameters\n",
        " The pop() method takes a single argument (index).\n",
        "    The argument passed to the method is optional. If not passed, the default   index -1 is passed as an argument (index of the last item).\n",
        "    If the index passed to the method is not in range, it throws IndexError: pop index out of range exception.\n"
      ]
    },
    {
      "cell_type": "markdown",
      "metadata": {
        "id": "_z34j57b3NfE"
      },
      "source": [
        "###Example 1"
      ]
    },
    {
      "cell_type": "code",
      "metadata": {
        "colab": {
          "base_uri": "https://localhost:8080/"
        },
        "id": "gG53NlZ3z58J",
        "outputId": "535603b7-78f8-4f68-d70e-0aba2e65c31b"
      },
      "source": [
        "#The pop() method returns the item present at the given index. This item is also removed from the list.\n",
        "\n",
        "thinkers = ['Plato', 'PlayDo', 'Gumby']\n",
        "while True:\n",
        "  try:\n",
        "    thinker = thinkers.pop()\n",
        "    print(thinker)\n",
        "\n",
        "  except IndexError as e:\n",
        "    print(\"We tried to pop too many thinkers\")\n",
        "    print(e)\n",
        "    break"
      ],
      "execution_count": null,
      "outputs": [
        {
          "output_type": "stream",
          "name": "stdout",
          "text": [
            "Gumby\n",
            "PlayDo\n",
            "Plato\n",
            "We tried to pop too many thinkers\n",
            "pop from empty list\n"
          ]
        }
      ]
    },
    {
      "cell_type": "markdown",
      "metadata": {
        "id": "ARtHJ9ws6Q5H"
      },
      "source": [
        "### Example 2"
      ]
    },
    {
      "cell_type": "code",
      "metadata": {
        "colab": {
          "base_uri": "https://localhost:8080/"
        },
        "id": "eKwEfzSx3Kx7",
        "outputId": "9d8e695b-0834-44c0-802e-99a422db77c6"
      },
      "source": [
        "# Create a list of prime numbers\n",
        "prime_numbers = [2, 3, 5, 7]\n",
        "\n",
        "# remove the element at index 2\n",
        "removed_element = prime_numbers.pop()\n",
        "print(f\"Removed prime number: {removed_element}\")\n",
        "print('updated prime numbers: ', prime_numbers)"
      ],
      "execution_count": null,
      "outputs": [
        {
          "output_type": "stream",
          "name": "stdout",
          "text": [
            "Removed prime number: 7\n",
            "updated prime numbers:  [2, 3, 5]\n"
          ]
        }
      ]
    },
    {
      "cell_type": "markdown",
      "metadata": {
        "id": "_pXySSeT7pSW"
      },
      "source": [
        "###Example 3"
      ]
    },
    {
      "cell_type": "code",
      "metadata": {
        "id": "6jOMUKSI7nju",
        "outputId": "cbe7f65a-d197-4006-8d2f-7503704eaaed",
        "colab": {
          "base_uri": "https://localhost:8080/"
        }
      },
      "source": [
        "# programming languages list\n",
        "languages = ['Python', 'Java', 'C++', 'French', 'C']\n",
        "while True:\n",
        "  try:\n",
        "# remove and return the 4th item\n",
        "    return_value = languages.pop(3)\n",
        "\n",
        "    print('Return Value:', return_value)\n",
        "\n",
        "  except IndexError as e:\n",
        "    print (e)\n",
        "   # print (\"We handled too many values\")\n",
        "    break\n",
        "# Updated List\n",
        "print('Updated List:', languages)\n"
      ],
      "execution_count": 7,
      "outputs": [
        {
          "output_type": "stream",
          "name": "stdout",
          "text": [
            "Return Value: French\n",
            "Return Value: C\n",
            "pop index out of range\n",
            "Updated List: ['Python', 'Java', 'C++']\n"
          ]
        }
      ]
    },
    {
      "cell_type": "code",
      "metadata": {
        "id": "QJek0xNk_fKB",
        "outputId": "06c6cb32-ff04-4df1-b027-d991db6a1521",
        "colab": {
          "base_uri": "https://localhost:8080/"
        }
      },
      "source": [
        "num = 887\n",
        "type(num)\n",
        "id(num)"
      ],
      "execution_count": 9,
      "outputs": [
        {
          "output_type": "execute_result",
          "data": {
            "text/plain": [
              "139782508345936"
            ]
          },
          "metadata": {},
          "execution_count": 9
        }
      ]
    }
  ]
}