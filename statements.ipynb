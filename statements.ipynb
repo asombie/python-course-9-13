{
  "nbformat": 4,
  "nbformat_minor": 0,
  "metadata": {
    "colab": {
      "name": "statements.ipynb",
      "provenance": [],
      "toc_visible": true,
      "authorship_tag": "ABX9TyOfbjseUoGTKKR4CgbXKgcK",
      "include_colab_link": true
    },
    "kernelspec": {
      "name": "python3",
      "display_name": "Python 3"
    },
    "language_info": {
      "name": "python"
    }
  },
  "cells": [
    {
      "cell_type": "markdown",
      "metadata": {
        "id": "view-in-github",
        "colab_type": "text"
      },
      "source": [
        "<a href=\"https://colab.research.google.com/github/asombie/python-course-9-13/blob/main/statements.ipynb\" target=\"_parent\"><img src=\"https://colab.research.google.com/assets/colab-badge.svg\" alt=\"Open In Colab\"/></a>"
      ]
    },
    {
      "cell_type": "markdown",
      "metadata": {
        "id": "Qzapwrrqvbxv"
      },
      "source": [
        "# While loop\n"
      ]
    },
    {
      "cell_type": "code",
      "metadata": {
        "colab": {
          "base_uri": "https://localhost:8080/"
        },
        "id": "JASxc3mcwcHH",
        "outputId": "603a6a25-712d-464d-afde-aae816d75045"
      },
      "source": [
        "count = 5\n",
        "while True:\n",
        "  print(f\"Counting down to {count}\")\n",
        "  if count == 0:\n",
        "    break\n",
        "  count -= 1\n"
      ],
      "execution_count": 5,
      "outputs": [
        {
          "output_type": "stream",
          "name": "stdout",
          "text": [
            "Counting down to 5\n",
            "Counting down to 4\n",
            "Counting down to 3\n",
            "Counting down to 2\n",
            "Counting down to 1\n",
            "Counting down to 0\n"
          ]
        }
      ]
    },
    {
      "cell_type": "markdown",
      "metadata": {
        "id": "4B-EsrgZydc3"
      },
      "source": [
        "##"
      ]
    },
    {
      "cell_type": "markdown",
      "metadata": {
        "id": "XyvdQN31vbKh"
      },
      "source": [
        ""
      ]
    }
  ]
}