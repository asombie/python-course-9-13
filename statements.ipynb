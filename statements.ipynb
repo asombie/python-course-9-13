{
  "nbformat": 4,
  "nbformat_minor": 0,
  "metadata": {
    "colab": {
      "name": "statements.ipynb",
      "provenance": [],
      "toc_visible": true,
      "authorship_tag": "ABX9TyO7p0vPqSpJCkzp3Hdq+wKS",
      "include_colab_link": true
    },
    "kernelspec": {
      "name": "python3",
      "display_name": "Python 3"
    },
    "language_info": {
      "name": "python"
    }
  },
  "cells": [
    {
      "cell_type": "markdown",
      "metadata": {
        "id": "view-in-github",
        "colab_type": "text"
      },
      "source": [
        "<a href=\"https://colab.research.google.com/github/asombie/python-course-9-13/blob/main/statements.ipynb\" target=\"_parent\"><img src=\"https://colab.research.google.com/assets/colab-badge.svg\" alt=\"Open In Colab\"/></a>"
      ]
    },
    {
      "cell_type": "markdown",
      "metadata": {
        "id": "rEu8ISpkzRP5"
      },
      "source": [
        "# Chapiter I"
      ]
    },
    {
      "cell_type": "markdown",
      "metadata": {
        "id": "Qzapwrrqvbxv"
      },
      "source": [
        "##While loop\n"
      ]
    },
    {
      "cell_type": "code",
      "metadata": {
        "colab": {
          "base_uri": "https://localhost:8080/"
        },
        "id": "JASxc3mcwcHH",
        "outputId": "5435526a-a871-49dc-f4e7-e6b15e5c8e98"
      },
      "source": [
        "count = 5\n",
        "while True:\n",
        "  print(f\"Counting down to {count}\")\n",
        "  if count == 0:\n",
        "    break\n",
        "  count -= 1\n"
      ],
      "execution_count": null,
      "outputs": [
        {
          "output_type": "stream",
          "name": "stdout",
          "text": [
            "Counting down to 5\n",
            "Counting down to 4\n",
            "Counting down to 3\n",
            "Counting down to 2\n",
            "Counting down to 1\n",
            "Counting down to 0\n"
          ]
        }
      ]
    },
    {
      "cell_type": "markdown",
      "metadata": {
        "id": "4B-EsrgZydc3"
      },
      "source": [
        "## Handling Exceptions"
      ]
    },
    {
      "cell_type": "markdown",
      "metadata": {
        "id": "XyvdQN31vbKh"
      },
      "source": [
        "Exceptions are a type of error causing your program to crash if not handled (caught). Catching them with a try-except block allows the program to continue. These blocks are created by indenting the block in which the exception might be raised, putting a try statement before it and an except statement after it, followed by a code block that should run when the error occurs.\n",
        "\n",
        "Pop() parameters\n",
        " The pop() method takes a single argument (index).\n",
        "    The argument passed to the method is optional. If not passed, the default   index -1 is passed as an argument (index of the last item).\n",
        "    If the index passed to the method is not in range, it throws IndexError: pop index out of range exception.\n"
      ]
    },
    {
      "cell_type": "markdown",
      "metadata": {
        "id": "_z34j57b3NfE"
      },
      "source": [
        "###Example 1"
      ]
    },
    {
      "cell_type": "code",
      "metadata": {
        "colab": {
          "base_uri": "https://localhost:8080/"
        },
        "id": "gG53NlZ3z58J",
        "outputId": "535603b7-78f8-4f68-d70e-0aba2e65c31b"
      },
      "source": [
        "#The pop() method returns the item present at the given index. This item is also removed from the list.\n",
        "\n",
        "thinkers = ['Plato', 'PlayDo', 'Gumby']\n",
        "while True:\n",
        "  try:\n",
        "    thinker = thinkers.pop()\n",
        "    print(thinker)\n",
        "\n",
        "  except IndexError as e:\n",
        "    print(\"We tried to pop too many thinkers\")\n",
        "    print(e)\n",
        "    break"
      ],
      "execution_count": null,
      "outputs": [
        {
          "output_type": "stream",
          "name": "stdout",
          "text": [
            "Gumby\n",
            "PlayDo\n",
            "Plato\n",
            "We tried to pop too many thinkers\n",
            "pop from empty list\n"
          ]
        }
      ]
    },
    {
      "cell_type": "markdown",
      "metadata": {
        "id": "ARtHJ9ws6Q5H"
      },
      "source": [
        "### Example 2"
      ]
    },
    {
      "cell_type": "code",
      "metadata": {
        "colab": {
          "base_uri": "https://localhost:8080/"
        },
        "id": "eKwEfzSx3Kx7",
        "outputId": "9d8e695b-0834-44c0-802e-99a422db77c6"
      },
      "source": [
        "# Create a list of prime numbers\n",
        "prime_numbers = [2, 3, 5, 7]\n",
        "\n",
        "# remove the element at index 2\n",
        "removed_element = prime_numbers.pop()\n",
        "print(f\"Removed prime number: {removed_element}\")\n",
        "print('updated prime numbers: ', prime_numbers)"
      ],
      "execution_count": null,
      "outputs": [
        {
          "output_type": "stream",
          "name": "stdout",
          "text": [
            "Removed prime number: 7\n",
            "updated prime numbers:  [2, 3, 5]\n"
          ]
        }
      ]
    },
    {
      "cell_type": "markdown",
      "metadata": {
        "id": "_pXySSeT7pSW"
      },
      "source": [
        "###Example 3"
      ]
    },
    {
      "cell_type": "code",
      "metadata": {
        "id": "6jOMUKSI7nju",
        "colab": {
          "base_uri": "https://localhost:8080/"
        },
        "outputId": "cbe7f65a-d197-4006-8d2f-7503704eaaed"
      },
      "source": [
        "# programming languages list\n",
        "languages = ['Python', 'Java', 'C++', 'French', 'C']\n",
        "while True:\n",
        "  try:\n",
        "# remove and return the 4th item\n",
        "    return_value = languages.pop(3)\n",
        "\n",
        "    print('Return Value:', return_value)\n",
        "\n",
        "  except IndexError as e:\n",
        "    print (e)\n",
        "   # print (\"We handled too many values\")\n",
        "    break\n",
        "# Updated List\n",
        "print('Updated List:', languages)\n"
      ],
      "execution_count": null,
      "outputs": [
        {
          "output_type": "stream",
          "name": "stdout",
          "text": [
            "Return Value: French\n",
            "Return Value: C\n",
            "pop index out of range\n",
            "Updated List: ['Python', 'Java', 'C++']\n"
          ]
        }
      ]
    },
    {
      "cell_type": "markdown",
      "metadata": {
        "id": "UHpxVS5bWY0N"
      },
      "source": [
        "##Object Methods and Attributes\n",
        "\n",
        "\n",
        "> Indented block\n",
        "Objects store data in attributes. These attributes are variables attached to the object or object class. Objects define functionality in object methods (methods defined for all objects in a class) and class methods (methods attached to a class and shared by all objects in the class), which are functions attached to the object.\n"
      ]
    },
    {
      "cell_type": "code",
      "metadata": {
        "id": "rTckjorfUg10"
      },
      "source": [
        "# Define a class for fancy defining cars\n",
        "class FancyCar():\n",
        "    # Add a class variable\n",
        "    wheels = 4\n",
        "    #Add a method\n",
        "    def driveFast(self):\n",
        "         print(\"Driving fast\")     "
      ],
      "execution_count": null,
      "outputs": []
    },
    {
      "cell_type": "code",
      "metadata": {
        "colab": {
          "base_uri": "https://localhost:8080/"
        },
        "id": "A6AY617nWZBT",
        "outputId": "4725c6e8-e9b7-4274-f405-2f0c99aabc7b"
      },
      "source": [
        "# Instantiate a fancy car\n",
        "my_car = FancyCar()\n",
        "# Access the class attribute\n",
        "my_car.wheels"
      ],
      "execution_count": null,
      "outputs": [
        {
          "output_type": "execute_result",
          "data": {
            "text/plain": [
              "4"
            ]
          },
          "metadata": {},
          "execution_count": 6
        }
      ]
    },
    {
      "cell_type": "markdown",
      "metadata": {
        "id": "mNZAJlK4XiiN"
      },
      "source": [
        "\n",
        "\n",
        "> Indented block\n",
        "So here our FancyCar class defines a method called driveFast and an attribute wheels. When you instantiate an instance of FancyCar named my_car, you can access the attribute and invoke the method using the dot syntax.\n"
      ]
    },
    {
      "cell_type": "code",
      "metadata": {
        "colab": {
          "base_uri": "https://localhost:8080/"
        },
        "id": "JiWDUhjDXJvD",
        "outputId": "821c79e5-f052-4069-ab8f-780d671afe90"
      },
      "source": [
        "# Invoke the method\n",
        "my_car.driveFast()"
      ],
      "execution_count": null,
      "outputs": [
        {
          "output_type": "stream",
          "name": "stdout",
          "text": [
            "Driving fast\n"
          ]
        }
      ]
    },
    {
      "cell_type": "markdown",
      "metadata": {
        "id": "MDeqlmQ9JtgM"
      },
      "source": [
        "##Sequences\n",
        "Sequences are a family of built-in types, including the list, tuple, range, string, and binary types. Sequences represent ordered and finite collections of items."
      ]
    },
    {
      "cell_type": "code",
      "metadata": {
        "colab": {
          "base_uri": "https://localhost:8080/"
        },
        "id": "36vIfz4eJ0N_",
        "outputId": "0da5dbd6-2408-4673-8380-61712ea4b71f"
      },
      "source": [
        "my_range = list(range(0,100,5))\n",
        "4 in my_range"
      ],
      "execution_count": null,
      "outputs": [
        {
          "output_type": "execute_result",
          "data": {
            "text/plain": [
              "False"
            ]
          },
          "metadata": {},
          "execution_count": 29
        }
      ]
    },
    {
      "cell_type": "code",
      "metadata": {
        "colab": {
          "base_uri": "https://localhost:8080/"
        },
        "id": "eExAAs62KSVu",
        "outputId": "1d174aa6-ed5b-4405-83b6-19ef7cba0f92"
      },
      "source": [
        "100 not in my_range"
      ],
      "execution_count": null,
      "outputs": [
        {
          "output_type": "execute_result",
          "data": {
            "text/plain": [
              "True"
            ]
          },
          "metadata": {},
          "execution_count": 15
        }
      ]
    },
    {
      "cell_type": "code",
      "metadata": {
        "colab": {
          "base_uri": "https://localhost:8080/"
        },
        "id": "SNx0bQYvKdw4",
        "outputId": "52679f49-3ed4-43bb-be74-4f52c3dfb81c"
      },
      "source": [
        "my_range"
      ],
      "execution_count": null,
      "outputs": [
        {
          "output_type": "execute_result",
          "data": {
            "text/plain": [
              "[0, 5, 10, 15, 20, 25, 30, 35, 40, 45, 50, 55, 60, 65, 70, 75, 80, 85, 90, 95]"
            ]
          },
          "metadata": {},
          "execution_count": 16
        }
      ]
    },
    {
      "cell_type": "code",
      "metadata": {
        "colab": {
          "base_uri": "https://localhost:8080/"
        },
        "id": "BLOsNQjeRdCf",
        "outputId": "b83ca3f6-675b-4124-eef3-e96a5d2fa4f9"
      },
      "source": [
        "my_range.index(35)"
      ],
      "execution_count": null,
      "outputs": [
        {
          "output_type": "execute_result",
          "data": {
            "text/plain": [
              "7"
            ]
          },
          "metadata": {},
          "execution_count": 47
        }
      ]
    },
    {
      "cell_type": "code",
      "metadata": {
        "colab": {
          "base_uri": "https://localhost:8080/"
        },
        "id": "rOnyKx66Kuk2",
        "outputId": "f4b3095d-9eb3-4236-be6d-5dbf23d014db"
      },
      "source": [
        "my_sequence = len(my_range)\n",
        "\n",
        "my_sequence"
      ],
      "execution_count": null,
      "outputs": [
        {
          "output_type": "execute_result",
          "data": {
            "text/plain": [
              "20"
            ]
          },
          "metadata": {},
          "execution_count": 33
        }
      ]
    },
    {
      "cell_type": "code",
      "metadata": {
        "colab": {
          "base_uri": "https://localhost:8080/"
        },
        "id": "vjcZzekPOioB",
        "outputId": "5eb37263-224a-4844-d70f-fe338e8c9534"
      },
      "source": [
        "my_range[0:]\n"
      ],
      "execution_count": null,
      "outputs": [
        {
          "output_type": "execute_result",
          "data": {
            "text/plain": [
              "[0, 5, 10, 15, 20, 25, 30, 35, 40, 45, 50, 55, 60, 65, 70, 75, 80, 85, 90, 95]"
            ]
          },
          "metadata": {},
          "execution_count": 40
        }
      ]
    },
    {
      "cell_type": "code",
      "metadata": {
        "colab": {
          "base_uri": "https://localhost:8080/"
        },
        "id": "F1Y5QX53P1HF",
        "outputId": "5d3bd9fa-2ebf-492c-b055-787f4789c3aa"
      },
      "source": [
        "my_range[:-2]"
      ],
      "execution_count": null,
      "outputs": [
        {
          "output_type": "execute_result",
          "data": {
            "text/plain": [
              "[0, 5, 10, 15, 20, 25, 30, 35, 40, 45, 50, 55, 60, 65, 70, 75, 80, 85]"
            ]
          },
          "metadata": {},
          "execution_count": 34
        }
      ]
    },
    {
      "cell_type": "code",
      "metadata": {
        "colab": {
          "base_uri": "https://localhost:8080/"
        },
        "id": "QAX9isisQsj_",
        "outputId": "7257f106-7d8a-4000-bb44-4be89f772a82"
      },
      "source": [
        "my_note = \"Bill Cheatham\"\n",
        "my_note.index('h')"
      ],
      "execution_count": null,
      "outputs": [
        {
          "output_type": "execute_result",
          "data": {
            "text/plain": [
              "6"
            ]
          },
          "metadata": {},
          "execution_count": 51
        }
      ]
    },
    {
      "cell_type": "code",
      "metadata": {
        "colab": {
          "base_uri": "https://localhost:8080/"
        },
        "id": "_8RxMkBmSQ31",
        "outputId": "6dca4620-ac64-4d78-db4f-02d6676a0565"
      },
      "source": [
        "my_note.index('a')"
      ],
      "execution_count": null,
      "outputs": [
        {
          "output_type": "execute_result",
          "data": {
            "text/plain": [
              "8"
            ]
          },
          "metadata": {},
          "execution_count": 58
        }
      ]
    },
    {
      "cell_type": "code",
      "metadata": {
        "colab": {
          "base_uri": "https://localhost:8080/",
          "height": 37
        },
        "id": "TgKuExTOS3fk",
        "outputId": "6ccbc5ef-e610-4f04-bbde-eecb5e5f412e"
      },
      "source": [
        "my_note[11]"
      ],
      "execution_count": null,
      "outputs": [
        {
          "output_type": "execute_result",
          "data": {
            "application/vnd.google.colaboratory.intrinsic+json": {
              "type": "string"
            },
            "text/plain": [
              "'a'"
            ]
          },
          "metadata": {},
          "execution_count": 55
        }
      ]
    },
    {
      "cell_type": "markdown",
      "metadata": {
        "id": "uVrFL6RG_fxz"
      },
      "source": [
        "##Lists"
      ]
    },
    {
      "cell_type": "code",
      "metadata": {
        "colab": {
          "base_uri": "https://localhost:8080/"
        },
        "id": "7_jk-2sE_lhD",
        "outputId": "07c4d5c3-9b15-4e95-c172-0e0b0bdb80f8"
      },
      "source": [
        "list()"
      ],
      "execution_count": 1,
      "outputs": [
        {
          "output_type": "execute_result",
          "data": {
            "text/plain": [
              "[]"
            ]
          },
          "metadata": {},
          "execution_count": 1
        }
      ]
    },
    {
      "cell_type": "code",
      "metadata": {
        "colab": {
          "base_uri": "https://localhost:8080/"
        },
        "id": "Q4oRcuru_0kj",
        "outputId": "2bedfbdf-b681-4238-8dfb-c7c55b3e8832"
      },
      "source": [
        "list(range(10))"
      ],
      "execution_count": 2,
      "outputs": [
        {
          "output_type": "execute_result",
          "data": {
            "text/plain": [
              "[0, 1, 2, 3, 4, 5, 6, 7, 8, 9]"
            ]
          },
          "metadata": {},
          "execution_count": 2
        }
      ]
    },
    {
      "cell_type": "code",
      "metadata": {
        "colab": {
          "base_uri": "https://localhost:8080/"
        },
        "id": "aZMkCdJlAAHk",
        "outputId": "d82f5bc0-9693-4876-f3e3-10ea2319eaf2"
      },
      "source": [
        "list(\"Adama Mafabi Sombie\")"
      ],
      "execution_count": 4,
      "outputs": [
        {
          "output_type": "execute_result",
          "data": {
            "text/plain": [
              "['A',\n",
              " 'd',\n",
              " 'a',\n",
              " 'm',\n",
              " 'a',\n",
              " ' ',\n",
              " 'M',\n",
              " 'a',\n",
              " 'f',\n",
              " 'a',\n",
              " 'b',\n",
              " 'i',\n",
              " ' ',\n",
              " 'S',\n",
              " 'o',\n",
              " 'm',\n",
              " 'b',\n",
              " 'i',\n",
              " 'e']"
            ]
          },
          "metadata": {},
          "execution_count": 4
        }
      ]
    },
    {
      "cell_type": "code",
      "metadata": {
        "colab": {
          "base_uri": "https://localhost:8080/"
        },
        "id": "LdXZ9FepE8mj",
        "outputId": "13701f25-22c0-48cd-a5c5-e9fce45e5bfd"
      },
      "source": [
        "empty = []\n",
        "empty"
      ],
      "execution_count": 6,
      "outputs": [
        {
          "output_type": "execute_result",
          "data": {
            "text/plain": [
              "[]"
            ]
          },
          "metadata": {},
          "execution_count": 6
        }
      ]
    },
    {
      "cell_type": "code",
      "metadata": {
        "id": "G6_N0gGzFFax"
      },
      "source": [
        ""
      ],
      "execution_count": null,
      "outputs": []
    },
    {
      "cell_type": "code",
      "metadata": {
        "id": "ml_aqmGiFFv2"
      },
      "source": [
        ""
      ],
      "execution_count": null,
      "outputs": []
    },
    {
      "cell_type": "code",
      "metadata": {
        "colab": {
          "base_uri": "https://localhost:8080/"
        },
        "id": "gzQvih66FFzP",
        "outputId": "fc170a16-af69-4848-9748-8bf47314835c"
      },
      "source": [
        "pies = ['cherry', 'apples', 'Great', 'Wonderful', 'cool']\n",
        "pies"
      ],
      "execution_count": 82,
      "outputs": [
        {
          "output_type": "execute_result",
          "data": {
            "text/plain": [
              "['cherry', 'apples', 'Great', 'Wonderful', 'cool']"
            ]
          },
          "metadata": {},
          "execution_count": 82
        }
      ]
    },
    {
      "cell_type": "code",
      "metadata": {
        "colab": {
          "base_uri": "https://localhost:8080/"
        },
        "id": "WEmdz3ONFPNp",
        "outputId": "caf7451a-40b5-4f63-f549-19b4dfbc92ff"
      },
      "source": [
        "pies.append('rhubarb')\n",
        "pies"
      ],
      "execution_count": 83,
      "outputs": [
        {
          "output_type": "execute_result",
          "data": {
            "text/plain": [
              "['cherry', 'apples', 'Great', 'Wonderful', 'cool', 'rhubarb']"
            ]
          },
          "metadata": {},
          "execution_count": 83
        }
      ]
    },
    {
      "cell_type": "code",
      "metadata": {
        "id": "3GpZ-j7mFh3L"
      },
      "source": [
        "pies.insert(2, 'mango')"
      ],
      "execution_count": 84,
      "outputs": []
    },
    {
      "cell_type": "code",
      "metadata": {
        "colab": {
          "base_uri": "https://localhost:8080/"
        },
        "id": "uyo6T1tHGgZ9",
        "outputId": "2668c3a6-915f-4da6-ac39-3b951dff8e56"
      },
      "source": [
        "pies"
      ],
      "execution_count": 85,
      "outputs": [
        {
          "output_type": "execute_result",
          "data": {
            "text/plain": [
              "['cherry', 'apples', 'mango', 'Great', 'Wonderful', 'cool', 'rhubarb']"
            ]
          },
          "metadata": {},
          "execution_count": 85
        }
      ]
    },
    {
      "cell_type": "code",
      "metadata": {
        "colab": {
          "base_uri": "https://localhost:8080/",
          "height": 35
        },
        "id": "Dcmyerm4HNT1",
        "outputId": "39b8f00d-7e88-46f2-b853-8804eff2ec96"
      },
      "source": [
        "pies.pop()"
      ],
      "execution_count": 86,
      "outputs": [
        {
          "output_type": "execute_result",
          "data": {
            "application/vnd.google.colaboratory.intrinsic+json": {
              "type": "string"
            },
            "text/plain": [
              "'rhubarb'"
            ]
          },
          "metadata": {},
          "execution_count": 86
        }
      ]
    },
    {
      "cell_type": "code",
      "metadata": {
        "colab": {
          "base_uri": "https://localhost:8080/"
        },
        "id": "VRCvWAf_HNjA",
        "outputId": "6a00bb82-f3fd-411d-cb07-cacf91a11385"
      },
      "source": [
        "pies"
      ],
      "execution_count": 87,
      "outputs": [
        {
          "output_type": "execute_result",
          "data": {
            "text/plain": [
              "['cherry', 'apples', 'mango', 'Great', 'Wonderful', 'cool']"
            ]
          },
          "metadata": {},
          "execution_count": 87
        }
      ]
    },
    {
      "cell_type": "code",
      "metadata": {
        "id": "4Vdwc3TBKlcz"
      },
      "source": [
        "pies.remove('Great')"
      ],
      "execution_count": 88,
      "outputs": []
    },
    {
      "cell_type": "code",
      "metadata": {
        "id": "mXq1ZHciKnJF"
      },
      "source": [
        ""
      ],
      "execution_count": null,
      "outputs": []
    },
    {
      "cell_type": "code",
      "metadata": {
        "colab": {
          "base_uri": "https://localhost:8080/",
          "height": 35
        },
        "id": "YWcXQbj5HUXJ",
        "outputId": "5ec3ddca-2a1e-40ce-d69a-87a45caae6f3"
      },
      "source": [
        "pies.pop(1)"
      ],
      "execution_count": 90,
      "outputs": [
        {
          "output_type": "execute_result",
          "data": {
            "application/vnd.google.colaboratory.intrinsic+json": {
              "type": "string"
            },
            "text/plain": [
              "'apples'"
            ]
          },
          "metadata": {},
          "execution_count": 90
        }
      ]
    },
    {
      "cell_type": "code",
      "metadata": {
        "colab": {
          "base_uri": "https://localhost:8080/"
        },
        "id": "noBSA8EoHZd1",
        "outputId": "e12b6a4b-3f1d-4897-8f97-f13f8e89ac46"
      },
      "source": [
        "pies"
      ],
      "execution_count": 91,
      "outputs": [
        {
          "output_type": "execute_result",
          "data": {
            "text/plain": [
              "['cherry', 'mango', 'Wonderful', 'cool']"
            ]
          },
          "metadata": {},
          "execution_count": 91
        }
      ]
    },
    {
      "cell_type": "code",
      "metadata": {
        "colab": {
          "base_uri": "https://localhost:8080/"
        },
        "id": "6MSzPd_JHhCj",
        "outputId": "22825112-dedd-4b2b-df80-ce9d1f0aacce"
      },
      "source": [
        "deserts = ['cookies', 'paste']\n",
        "deserts"
      ],
      "execution_count": 95,
      "outputs": [
        {
          "output_type": "execute_result",
          "data": {
            "text/plain": [
              "['cookies', 'paste']"
            ]
          },
          "metadata": {},
          "execution_count": 95
        }
      ]
    },
    {
      "cell_type": "code",
      "metadata": {
        "colab": {
          "base_uri": "https://localhost:8080/"
        },
        "id": "0eHJxBlvHr8K",
        "outputId": "c4e8572d-e7bd-4432-863f-ba20a67f87c6"
      },
      "source": [
        "deserts.extend(pies)\n",
        "deserts"
      ],
      "execution_count": 96,
      "outputs": [
        {
          "output_type": "execute_result",
          "data": {
            "text/plain": [
              "['cookies', 'paste', 'cherry', 'mango', 'Wonderful', 'cool']"
            ]
          },
          "metadata": {},
          "execution_count": 96
        }
      ]
    },
    {
      "cell_type": "code",
      "metadata": {
        "colab": {
          "base_uri": "https://localhost:8080/"
        },
        "id": "TbTA5o4eJbPU",
        "outputId": "f0a2b646-76d6-4e9b-9433-5e3322209660"
      },
      "source": [
        "append = ['Fruits', 'vegetables']\n",
        "append"
      ],
      "execution_count": 97,
      "outputs": [
        {
          "output_type": "execute_result",
          "data": {
            "text/plain": [
              "['Fruits', 'vegetables']"
            ]
          },
          "metadata": {},
          "execution_count": 97
        }
      ]
    },
    {
      "cell_type": "code",
      "metadata": {
        "colab": {
          "base_uri": "https://localhost:8080/"
        },
        "id": "SQPffIITJY_z",
        "outputId": "5d88d8b1-3c80-4f14-8ee4-14ba680a500e"
      },
      "source": [
        "deserts.append(append)\n",
        "deserts"
      ],
      "execution_count": 98,
      "outputs": [
        {
          "output_type": "execute_result",
          "data": {
            "text/plain": [
              "['cookies',\n",
              " 'paste',\n",
              " 'cherry',\n",
              " 'mango',\n",
              " 'Wonderful',\n",
              " 'cool',\n",
              " ['Fruits', 'vegetables']]"
            ]
          },
          "metadata": {},
          "execution_count": 98
        }
      ]
    },
    {
      "cell_type": "code",
      "metadata": {
        "id": "RTqT-CndLivw"
      },
      "source": [
        "squares = []\n",
        "for i in range(10):\n",
        "  squared = i*i\n",
        "  squares.append(squared)"
      ],
      "execution_count": 101,
      "outputs": []
    },
    {
      "cell_type": "code",
      "metadata": {
        "id": "b0q0zBUhMHL3",
        "outputId": "9bf726ca-36ba-44cd-e7f4-47bc0f090fd2",
        "colab": {
          "base_uri": "https://localhost:8080/"
        }
      },
      "source": [
        "squares"
      ],
      "execution_count": 102,
      "outputs": [
        {
          "output_type": "execute_result",
          "data": {
            "text/plain": [
              "[0, 1, 4, 9, 16, 25, 36, 49, 64, 81]"
            ]
          },
          "metadata": {},
          "execution_count": 102
        }
      ]
    },
    {
      "cell_type": "code",
      "metadata": {
        "id": "d3lWvhh0MN-K",
        "outputId": "a0550d39-02cb-402c-933a-b5ac71699e5e",
        "colab": {
          "base_uri": "https://localhost:8080/"
        }
      },
      "source": [
        "another_squares = [i*i for i in range(10)]\n",
        "another_squares"
      ],
      "execution_count": 104,
      "outputs": [
        {
          "output_type": "execute_result",
          "data": {
            "text/plain": [
              "[0, 1, 4, 9, 16, 25, 36, 49, 64, 81]"
            ]
          },
          "metadata": {},
          "execution_count": 104
        }
      ]
    },
    {
      "cell_type": "code",
      "metadata": {
        "id": "zbDl2LdzMhn-",
        "outputId": "4032afba-2433-41bc-e738-ff2794bc73a8",
        "colab": {
          "base_uri": "https://localhost:8080/"
        }
      },
      "source": [
        "some_squares = [i+i for i in range(10) if i%2==0]\n",
        "some_squares"
      ],
      "execution_count": 111,
      "outputs": [
        {
          "output_type": "execute_result",
          "data": {
            "text/plain": [
              "[0, 4, 8, 12, 16]"
            ]
          },
          "metadata": {},
          "execution_count": 111
        }
      ]
    },
    {
      "cell_type": "code",
      "metadata": {
        "id": "y7mOaCNSMiKd"
      },
      "source": [
        ""
      ],
      "execution_count": null,
      "outputs": []
    },
    {
      "cell_type": "code",
      "metadata": {
        "id": "mLxVrkvoMihr"
      },
      "source": [
        ""
      ],
      "execution_count": null,
      "outputs": []
    }
  ]
}